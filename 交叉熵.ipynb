{
 "cells": [
  {
   "cell_type": "code",
   "execution_count": 1,
   "metadata": {},
   "outputs": [],
   "source": [
    "import numpy as np\n",
    "from keras.datasets import mnist\n",
    "from keras.utils import np_utils\n",
    "from keras.models import Sequential\n",
    "from keras.layers import Dense\n",
    "# from keras.optimizers import SGD\n",
    "from tensorflow.keras.optimizers import SGD"
   ]
  },
  {
   "cell_type": "code",
   "execution_count": 2,
   "metadata": {},
   "outputs": [
    {
     "name": "stdout",
     "output_type": "stream",
     "text": [
      "x_shape: (60000, 28, 28)\n",
      "y_shape: (60000,)\n"
     ]
    },
    {
     "name": "stderr",
     "output_type": "stream",
     "text": [
      "D:\\_SoftWare\\Miniconda3\\lib\\site-packages\\keras\\optimizer_v2\\optimizer_v2.py:355: UserWarning: The `lr` argument is deprecated, use `learning_rate` instead.\n",
      "  warnings.warn(\n"
     ]
    },
    {
     "name": "stdout",
     "output_type": "stream",
     "text": [
      "Epoch 1/10\n",
      "1875/1875 [==============================] - 3s 934us/step - loss: 0.3797 - accuracy: 0.8921\n",
      "Epoch 2/10\n",
      "1875/1875 [==============================] - 2s 980us/step - loss: 0.3030 - accuracy: 0.9142\n",
      "Epoch 3/10\n",
      "1875/1875 [==============================] - 2s 896us/step - loss: 0.2902 - accuracy: 0.9170\n",
      "Epoch 4/10\n",
      "1875/1875 [==============================] - 2s 897us/step - loss: 0.2824 - accuracy: 0.9207\n",
      "Epoch 5/10\n",
      "1875/1875 [==============================] - 2s 918us/step - loss: 0.2779 - accuracy: 0.9222\n",
      "Epoch 6/10\n",
      "1875/1875 [==============================] - 2s 994us/step - loss: 0.2746 - accuracy: 0.9230\n",
      "Epoch 7/10\n",
      "1875/1875 [==============================] - 2s 1ms/step - loss: 0.2711 - accuracy: 0.9237\n",
      "Epoch 8/10\n",
      "1875/1875 [==============================] - 2s 896us/step - loss: 0.2694 - accuracy: 0.9247\n",
      "Epoch 9/10\n",
      "1875/1875 [==============================] - 2s 919us/step - loss: 0.2664 - accuracy: 0.9253\n",
      "Epoch 10/10\n",
      "1875/1875 [==============================] - 2s 979us/step - loss: 0.2649 - accuracy: 0.9261\n",
      "313/313 [==============================] - 0s 1ms/step - loss: 0.2785 - accuracy: 0.9215\n",
      "\n",
      "test loss 0.27847352623939514\n",
      "accuracy 0.921500027179718\n"
     ]
    }
   ],
   "source": [
    "# 载入数据\n",
    "(x_train,y_train),(x_test,y_test) = mnist.load_data()\n",
    "# (60000,28,28)\n",
    "print('x_shape:',x_train.shape)\n",
    "# (60000)\n",
    "print('y_shape:',y_train.shape)\n",
    "# (60000,28,28)->(60000,784)\n",
    "x_train = x_train.reshape(x_train.shape[0],-1)/255.0\n",
    "x_test = x_test.reshape(x_test.shape[0],-1)/255.0\n",
    "# 换one hot格式\n",
    "y_train = np_utils.to_categorical(y_train,num_classes=10)\n",
    "y_test = np_utils.to_categorical(y_test,num_classes=10)\n",
    "\n",
    "# 创建模型，输入784个神经元，输出10个神经元\n",
    "model = Sequential([\n",
    "    Dense(units=10,input_dim=784,bias_initializer='one',activation='softmax')\n",
    "                   ])\n",
    "\n",
    "# 定义优化器，loss function，训练过程中计算准确率\n",
    "sgd = SGD(lr=0.2)\n",
    "\n",
    "model.compile(\n",
    "    optimizer = sgd,\n",
    "    loss = 'categorical_crossentropy',\n",
    "    metrics = ['accuracy'],\n",
    ")\n",
    "\n",
    "# 训练模型\n",
    "model.fit(x_train,y_train,batch_size=32,epochs=10)\n",
    "\n",
    "# 评估模型\n",
    "loss,accuracy = model.evaluate(x_test,y_test)\n",
    "\n",
    "print('\\ntest loss',loss)\n",
    "print('accuracy',accuracy)"
   ]
  },
  {
   "cell_type": "code",
   "execution_count": null,
   "metadata": {},
   "outputs": [],
   "source": []
  }
 ],
 "metadata": {
  "kernelspec": {
   "display_name": "Python 3 (ipykernel)",
   "language": "python",
   "name": "python3"
  },
  "language_info": {
   "codemirror_mode": {
    "name": "ipython",
    "version": 3
   },
   "file_extension": ".py",
   "mimetype": "text/x-python",
   "name": "python",
   "nbconvert_exporter": "python",
   "pygments_lexer": "ipython3",
   "version": "3.9.9"
  }
 },
 "nbformat": 4,
 "nbformat_minor": 2
}
